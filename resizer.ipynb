{
 "cells": [
  {
   "cell_type": "code",
   "execution_count": 12,
   "id": "3e5cd8da-9a13-405e-a125-5e5f61322046",
   "metadata": {},
   "outputs": [],
   "source": [
    "import cv2\n",
    "import glob\n",
    "\n",
    "def shrink_images(path):\n",
    "    for filename in glob.glob(path):\n",
    "        img = cv2.imread(filename)\n",
    "        h,w,_ = img.shape\n",
    "        out = cv2.resize(img, None, fx=0.4, fy=0.4, interpolation= cv2.INTER_LINEAR)\n",
    "        png_name = filename[-10:]\n",
    "        cv2.imwrite(path[:-2]+\"04/\"+png_name,out)\n",
    "    print(\"done\")"
   ]
  },
  {
   "cell_type": "code",
   "execution_count": null,
   "id": "9e194e33-fe9e-4d1f-b323-994a9797003d",
   "metadata": {},
   "outputs": [],
   "source": [
    "shrink_images(\"./Images/*\")"
   ]
  },
  {
   "cell_type": "code",
   "execution_count": 11,
   "id": "2eb6c6c6-7346-49bc-a9bf-56c730b8fb14",
   "metadata": {},
   "outputs": [
    {
     "data": {
      "text/plain": [
       "'./Images04/'"
      ]
     },
     "execution_count": 11,
     "metadata": {},
     "output_type": "execute_result"
    }
   ],
   "source": [
    "path = \"./Images/*\"\n",
    "path[:-2]+\"04/\""
   ]
  },
  {
   "cell_type": "code",
   "execution_count": null,
   "id": "856a758d-2a13-4d41-97d6-4ae866c29999",
   "metadata": {},
   "outputs": [],
   "source": []
  }
 ],
 "metadata": {
  "kernelspec": {
   "display_name": "Python 3",
   "language": "python",
   "name": "python3"
  },
  "language_info": {
   "codemirror_mode": {
    "name": "ipython",
    "version": 3
   },
   "file_extension": ".py",
   "mimetype": "text/x-python",
   "name": "python",
   "nbconvert_exporter": "python",
   "pygments_lexer": "ipython3",
   "version": "3.8.8"
  }
 },
 "nbformat": 4,
 "nbformat_minor": 5
}
