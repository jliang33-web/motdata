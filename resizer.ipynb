{
 "cells": [
  {
   "cell_type": "code",
   "execution_count": 15,
   "id": "3e5cd8da-9a13-405e-a125-5e5f61322046",
   "metadata": {},
   "outputs": [],
   "source": [
    "import cv2\n",
    "import glob\n",
    "\n",
    "def shrink_images(path):\n",
    "    for filename in glob.glob(path):\n",
    "        img = cv2.imread(filename)\n",
    "        h,w,_ = img.shape\n",
    "        out = cv2.resize(img, None, fx=0.4, fy=0.4, interpolation= cv2.INTER_LINEAR)\n",
    "        png_name = filename[-10:]\n",
    "        cv2.imwrite(path[:-2]+\"04/\"+png_name,out)\n",
    "    print(\"done\")"
   ]
  },
  {
   "cell_type": "code",
   "execution_count": 16,
   "id": "9e194e33-fe9e-4d1f-b323-994a9797003d",
   "metadata": {},
   "outputs": [
    {
     "name": "stdout",
     "output_type": "stream",
     "text": [
      "done\n"
     ]
    }
   ],
   "source": [
    "shrink_images(\"./Images/*\")"
   ]
  },
  {
   "cell_type": "code",
   "execution_count": 17,
   "id": "2eb6c6c6-7346-49bc-a9bf-56c730b8fb14",
   "metadata": {},
   "outputs": [
    {
     "data": {
      "text/plain": [
       "'./Images04/'"
      ]
     },
     "execution_count": 17,
     "metadata": {},
     "output_type": "execute_result"
    }
   ],
   "source": [
    "path = \"./Images/*\"\n",
    "path[:-2]+\"04/\""
   ]
  },
  {
   "cell_type": "code",
   "execution_count": 18,
   "id": "856a758d-2a13-4d41-97d6-4ae866c29999",
   "metadata": {},
   "outputs": [
    {
     "name": "stdout",
     "output_type": "stream",
     "text": [
      "done\n"
     ]
    }
   ],
   "source": [
    "shrink_images(\"./Masks/*\")"
   ]
  },
  {
   "cell_type": "code",
   "execution_count": 23,
   "id": "c7addd63-b016-4c86-a671-1d655264b950",
   "metadata": {},
   "outputs": [
    {
     "name": "stdout",
     "output_type": "stream",
     "text": [
      "done\n"
     ]
    }
   ],
   "source": [
    "path = \"./Images/*\"\n",
    "for filename in glob.glob(path):\n",
    "    img = cv2.imread(filename)\n",
    "    png_name = filename[-10:]\n",
    "    cv2.imwrite(path[:-2]+\"PNG/\"+png_name,img)\n",
    "print(\"done\")"
   ]
  },
  {
   "cell_type": "code",
   "execution_count": null,
   "id": "0a9cafa8-5531-43a2-b5f9-0fd78d05a1bd",
   "metadata": {},
   "outputs": [],
   "source": []
  }
 ],
 "metadata": {
  "kernelspec": {
   "display_name": "Python 3",
   "language": "python",
   "name": "python3"
  },
  "language_info": {
   "codemirror_mode": {
    "name": "ipython",
    "version": 3
   },
   "file_extension": ".py",
   "mimetype": "text/x-python",
   "name": "python",
   "nbconvert_exporter": "python",
   "pygments_lexer": "ipython3",
   "version": "3.8.8"
  }
 },
 "nbformat": 4,
 "nbformat_minor": 5
}
